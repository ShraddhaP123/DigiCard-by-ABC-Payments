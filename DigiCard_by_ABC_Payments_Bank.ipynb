{
  "nbformat": 4,
  "nbformat_minor": 0,
  "metadata": {
    "colab": {
      "name": "DigiCard by ABC Payments Bank.ipynb",
      "provenance": [],
      "collapsed_sections": [],
      "authorship_tag": "ABX9TyM/5jsyojKf2A9Zcd4xkAXB",
      "include_colab_link": true
    },
    "kernelspec": {
      "name": "python3",
      "display_name": "Python 3"
    },
    "language_info": {
      "name": "python"
    }
  },
  "cells": [
    {
      "cell_type": "markdown",
      "metadata": {
        "id": "view-in-github",
        "colab_type": "text"
      },
      "source": [
        "<a href=\"https://colab.research.google.com/github/ShraddhaP123/DigiCard-by-ABC-Payments/blob/main/DigiCard_by_ABC_Payments_Bank.ipynb\" target=\"_parent\"><img src=\"https://colab.research.google.com/assets/colab-badge.svg\" alt=\"Open In Colab\"/></a>"
      ]
    },
    {
      "cell_type": "markdown",
      "metadata": {
        "id": "KCiFCpYeQZmD"
      },
      "source": [
        "**Importing Libraries**"
      ]
    },
    {
      "cell_type": "code",
      "metadata": {
        "id": "3cs0EyXRO04V"
      },
      "source": [
        "import numpy as np\n",
        "import pandas as pd\n",
        "import matplotlib.pyplot as plt\n",
        "import seaborn as sns\n",
        "from matplotlib import gridspec\n",
        "import warnings\n",
        "\n",
        "%matplotlib inline\n",
        "sns.set()\n",
        "warnings.simplefilter('ignore')"
      ],
      "execution_count": 7,
      "outputs": []
    },
    {
      "cell_type": "code",
      "metadata": {
        "id": "M0fH3UmuRErp"
      },
      "source": [
        "from sklearn.preprocessing import LabelEncoder\n",
        "from sklearn.preprocessing import MinMaxScaler\n",
        "from sklearn.linear_model import LogisticRegression\n",
        "from sklearn.metrics import confusion_matrix,classification_report \n",
        "from sklearn.model_selection import train_test_split\n",
        "from sklearn.neighbors import KNeighborsClassifier\n",
        "from sklearn import svm\n",
        "from sklearn import metrics\n",
        "from sklearn.tree import DecisionTreeClassifier\n",
        "from sklearn.svm import SVC\n",
        "from sklearn.metrics import accuracy_score"
      ],
      "execution_count": 8,
      "outputs": []
    },
    {
      "cell_type": "markdown",
      "metadata": {
        "id": "QkrEvO89QMVc"
      },
      "source": [
        "**Uploading the dataset from Local machine**"
      ]
    },
    {
      "cell_type": "code",
      "metadata": {
        "colab": {
          "resources": {
            "http://localhost:8080/nbextensions/google.colab/files.js": {
              "data": "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",
              "ok": true,
              "headers": [
                [
                  "content-type",
                  "application/javascript"
                ]
              ],
              "status": 200,
              "status_text": ""
            }
          },
          "base_uri": "https://localhost:8080/",
          "height": 74
        },
        "id": "AU_toP_hPUks",
        "outputId": "aff2cf72-0152-409c-8d60-4408de2bea40"
      },
      "source": [
        "from google.colab import files\n",
        "uploaded = files.upload()"
      ],
      "execution_count": 9,
      "outputs": [
        {
          "output_type": "display_data",
          "data": {
            "text/html": [
              "\n",
              "     <input type=\"file\" id=\"files-0252c426-3b29-4fc9-992d-904f371e7b1a\" name=\"files[]\" multiple disabled\n",
              "        style=\"border:none\" />\n",
              "     <output id=\"result-0252c426-3b29-4fc9-992d-904f371e7b1a\">\n",
              "      Upload widget is only available when the cell has been executed in the\n",
              "      current browser session. Please rerun this cell to enable.\n",
              "      </output>\n",
              "      <script src=\"/nbextensions/google.colab/files.js\"></script> "
            ],
            "text/plain": [
              "<IPython.core.display.HTML object>"
            ]
          },
          "metadata": {}
        },
        {
          "output_type": "stream",
          "name": "stdout",
          "text": [
            "Saving simpl_payments_bank_digicard_v1.0.csv to simpl_payments_bank_digicard_v1.0 (3).csv\n"
          ]
        }
      ]
    },
    {
      "cell_type": "markdown",
      "metadata": {
        "id": "aspPhIREQpDB"
      },
      "source": [
        "**Reading the CSV file**"
      ]
    },
    {
      "cell_type": "code",
      "metadata": {
        "id": "73pcItLEQKa0"
      },
      "source": [
        "data=pd.read_csv(\"simpl_payments_bank_digicard_v1.0.csv\")"
      ],
      "execution_count": 10,
      "outputs": []
    },
    {
      "cell_type": "markdown",
      "metadata": {
        "id": "EiKcySs1RnEl"
      },
      "source": [
        "**Reorder the columns in order to get \"approved\" column at last**"
      ]
    },
    {
      "cell_type": "code",
      "metadata": {
        "id": "M7jic18aRnXc"
      },
      "source": [
        "cols = [col for col in data if col != 'approved'] + ['approved']  \n",
        "data = data[cols]"
      ],
      "execution_count": 11,
      "outputs": []
    },
    {
      "cell_type": "markdown",
      "metadata": {
        "id": "kZ2DItfoQ8Qh"
      },
      "source": [
        "**Checking the First 5 rows of the dataset**"
      ]
    },
    {
      "cell_type": "code",
      "metadata": {
        "colab": {
          "base_uri": "https://localhost:8080/",
          "height": 475
        },
        "id": "kpYFT9wuQ8vr",
        "outputId": "20376ef5-5198-4b19-d84a-976b1628a486"
      },
      "source": [
        "data.head()"
      ],
      "execution_count": 12,
      "outputs": [
        {
          "output_type": "execute_result",
          "data": {
            "text/html": [
              "<div>\n",
              "<style scoped>\n",
              "    .dataframe tbody tr th:only-of-type {\n",
              "        vertical-align: middle;\n",
              "    }\n",
              "\n",
              "    .dataframe tbody tr th {\n",
              "        vertical-align: top;\n",
              "    }\n",
              "\n",
              "    .dataframe thead th {\n",
              "        text-align: right;\n",
              "    }\n",
              "</style>\n",
              "<table border=\"1\" class=\"dataframe\">\n",
              "  <thead>\n",
              "    <tr style=\"text-align: right;\">\n",
              "      <th></th>\n",
              "      <th>user_id</th>\n",
              "      <th>gender</th>\n",
              "      <th>date_of_birth</th>\n",
              "      <th>workclass</th>\n",
              "      <th>education_level</th>\n",
              "      <th>education_num</th>\n",
              "      <th>marital_status</th>\n",
              "      <th>occupation</th>\n",
              "      <th>relationship</th>\n",
              "      <th>capital_gain</th>\n",
              "      <th>capital_loss</th>\n",
              "      <th>hours_per_week</th>\n",
              "      <th>address</th>\n",
              "      <th>email</th>\n",
              "      <th>inquiry_purpose_code</th>\n",
              "      <th>institute_type</th>\n",
              "      <th>account_type</th>\n",
              "      <th>asset_class_cd</th>\n",
              "      <th>asset_code</th>\n",
              "      <th>portfolio_type</th>\n",
              "      <th>approved</th>\n",
              "    </tr>\n",
              "  </thead>\n",
              "  <tbody>\n",
              "    <tr>\n",
              "      <th>0</th>\n",
              "      <td>307c73a3-0c67-43b5-b0d1-62ad5f00b52a</td>\n",
              "      <td>Female</td>\n",
              "      <td>1987-01-03</td>\n",
              "      <td>Private</td>\n",
              "      <td>11th</td>\n",
              "      <td>7.0</td>\n",
              "      <td>Never-married</td>\n",
              "      <td>Sales</td>\n",
              "      <td>Unmarried</td>\n",
              "      <td>0.0</td>\n",
              "      <td>0.0</td>\n",
              "      <td>17.0</td>\n",
              "      <td>45424 Norris Common Apt. 390\\r\\nNorth Mike, AR...</td>\n",
              "      <td>vasquezleah@yahoo.com</td>\n",
              "      <td>7.0</td>\n",
              "      <td>PVT</td>\n",
              "      <td>5</td>\n",
              "      <td>NaN</td>\n",
              "      <td>1.0</td>\n",
              "      <td>R</td>\n",
              "      <td>0</td>\n",
              "    </tr>\n",
              "    <tr>\n",
              "      <th>1</th>\n",
              "      <td>519481f1-604d-48b6-aa47-4123a982431a</td>\n",
              "      <td>Male</td>\n",
              "      <td>1970-01-07</td>\n",
              "      <td>Self-emp-not-inc</td>\n",
              "      <td>Some-college</td>\n",
              "      <td>10.0</td>\n",
              "      <td>Married-civ-spouse</td>\n",
              "      <td>Craft-repair</td>\n",
              "      <td>Husband</td>\n",
              "      <td>0.0</td>\n",
              "      <td>0.0</td>\n",
              "      <td>48.0</td>\n",
              "      <td>5022 Rebecca Haven Apt. 258\\r\\nThompsonfurt, C...</td>\n",
              "      <td>johnsontrevor@hotmail.com</td>\n",
              "      <td>13.0</td>\n",
              "      <td>NBF</td>\n",
              "      <td>5</td>\n",
              "      <td>NaN</td>\n",
              "      <td>1.0</td>\n",
              "      <td>R</td>\n",
              "      <td>0</td>\n",
              "    </tr>\n",
              "    <tr>\n",
              "      <th>2</th>\n",
              "      <td>f66fe2c6-53e3-46ce-8321-e530b4af1ace</td>\n",
              "      <td>Male</td>\n",
              "      <td>1973-01-06</td>\n",
              "      <td>Private</td>\n",
              "      <td>HS-grad</td>\n",
              "      <td>9.0</td>\n",
              "      <td>Divorced</td>\n",
              "      <td>Sales</td>\n",
              "      <td>Not-in-family</td>\n",
              "      <td>0.0</td>\n",
              "      <td>0.0</td>\n",
              "      <td>50.0</td>\n",
              "      <td>8780 Brown Loaf Apt. 099\\r\\nNorth David, NJ 56510</td>\n",
              "      <td>morganemily@gmail.com</td>\n",
              "      <td>13.0</td>\n",
              "      <td>NBF</td>\n",
              "      <td>5</td>\n",
              "      <td>NaN</td>\n",
              "      <td>1.0</td>\n",
              "      <td>R</td>\n",
              "      <td>0</td>\n",
              "    </tr>\n",
              "    <tr>\n",
              "      <th>3</th>\n",
              "      <td>91360ed7-72d1-4f6e-b492-d71ef4480061</td>\n",
              "      <td>Female</td>\n",
              "      <td>2001-12-30</td>\n",
              "      <td>Private</td>\n",
              "      <td>11th</td>\n",
              "      <td>7.0</td>\n",
              "      <td>Never-married</td>\n",
              "      <td>Sales</td>\n",
              "      <td>Own-child</td>\n",
              "      <td>0.0</td>\n",
              "      <td>0.0</td>\n",
              "      <td>15.0</td>\n",
              "      <td>721 Jackson Extensions Suite 995\\r\\nNew Tarasi...</td>\n",
              "      <td>agarcia@hotmail.com</td>\n",
              "      <td>13.0</td>\n",
              "      <td>NBF</td>\n",
              "      <td>5</td>\n",
              "      <td>NaN</td>\n",
              "      <td>1.0</td>\n",
              "      <td>R</td>\n",
              "      <td>0</td>\n",
              "    </tr>\n",
              "    <tr>\n",
              "      <th>4</th>\n",
              "      <td>0e1977f3-3bef-4283-8d0a-d60b0f6ff480</td>\n",
              "      <td>Male</td>\n",
              "      <td>1986-01-03</td>\n",
              "      <td>Private</td>\n",
              "      <td>Some-college</td>\n",
              "      <td>10.0</td>\n",
              "      <td>Married-civ-spouse</td>\n",
              "      <td>Handlers-cleaners</td>\n",
              "      <td>Husband</td>\n",
              "      <td>0.0</td>\n",
              "      <td>0.0</td>\n",
              "      <td>50.0</td>\n",
              "      <td>935 Burch Divide\\r\\nLake Bobbyfurt, VT 14128</td>\n",
              "      <td>shermanmeredith@gmail.com</td>\n",
              "      <td>13.0</td>\n",
              "      <td>PVT</td>\n",
              "      <td>47</td>\n",
              "      <td>S</td>\n",
              "      <td>1.0</td>\n",
              "      <td>I</td>\n",
              "      <td>0</td>\n",
              "    </tr>\n",
              "  </tbody>\n",
              "</table>\n",
              "</div>"
            ],
            "text/plain": [
              "                                user_id   gender  ... portfolio_type approved\n",
              "0  307c73a3-0c67-43b5-b0d1-62ad5f00b52a   Female  ...              R        0\n",
              "1  519481f1-604d-48b6-aa47-4123a982431a     Male  ...              R        0\n",
              "2  f66fe2c6-53e3-46ce-8321-e530b4af1ace     Male  ...              R        0\n",
              "3  91360ed7-72d1-4f6e-b492-d71ef4480061   Female  ...              R        0\n",
              "4  0e1977f3-3bef-4283-8d0a-d60b0f6ff480     Male  ...              I        0\n",
              "\n",
              "[5 rows x 21 columns]"
            ]
          },
          "metadata": {},
          "execution_count": 12
        }
      ]
    },
    {
      "cell_type": "markdown",
      "metadata": {
        "id": "Hprd9XkUQ9IK"
      },
      "source": [
        "**Checking the rows and columns of the dataset**"
      ]
    },
    {
      "cell_type": "code",
      "metadata": {
        "colab": {
          "base_uri": "https://localhost:8080/"
        },
        "id": "aBnt8cGFQ9aq",
        "outputId": "3d1fef90-4ddd-438c-91d8-732c0f25ea9a"
      },
      "source": [
        "data.shape"
      ],
      "execution_count": 13,
      "outputs": [
        {
          "output_type": "execute_result",
          "data": {
            "text/plain": [
              "(45222, 21)"
            ]
          },
          "metadata": {},
          "execution_count": 13
        }
      ]
    },
    {
      "cell_type": "markdown",
      "metadata": {
        "id": "bcM1VqUVR2wr"
      },
      "source": [
        "**Understanding the statistical information regarding the dataset**"
      ]
    },
    {
      "cell_type": "code",
      "metadata": {
        "colab": {
          "base_uri": "https://localhost:8080/",
          "height": 295
        },
        "id": "ax87jT2xR3rS",
        "outputId": "6d30a7eb-67a0-4ab4-e543-6ed3fe085d58"
      },
      "source": [
        "data.describe()"
      ],
      "execution_count": 14,
      "outputs": [
        {
          "output_type": "execute_result",
          "data": {
            "text/html": [
              "<div>\n",
              "<style scoped>\n",
              "    .dataframe tbody tr th:only-of-type {\n",
              "        vertical-align: middle;\n",
              "    }\n",
              "\n",
              "    .dataframe tbody tr th {\n",
              "        vertical-align: top;\n",
              "    }\n",
              "\n",
              "    .dataframe thead th {\n",
              "        text-align: right;\n",
              "    }\n",
              "</style>\n",
              "<table border=\"1\" class=\"dataframe\">\n",
              "  <thead>\n",
              "    <tr style=\"text-align: right;\">\n",
              "      <th></th>\n",
              "      <th>education_num</th>\n",
              "      <th>capital_gain</th>\n",
              "      <th>capital_loss</th>\n",
              "      <th>hours_per_week</th>\n",
              "      <th>inquiry_purpose_code</th>\n",
              "      <th>account_type</th>\n",
              "      <th>asset_code</th>\n",
              "      <th>approved</th>\n",
              "    </tr>\n",
              "  </thead>\n",
              "  <tbody>\n",
              "    <tr>\n",
              "      <th>count</th>\n",
              "      <td>45222.000000</td>\n",
              "      <td>45222.000000</td>\n",
              "      <td>45222.000000</td>\n",
              "      <td>45222.000000</td>\n",
              "      <td>43931.000000</td>\n",
              "      <td>45222.000000</td>\n",
              "      <td>45140.000000</td>\n",
              "      <td>45222.000000</td>\n",
              "    </tr>\n",
              "    <tr>\n",
              "      <th>mean</th>\n",
              "      <td>10.118460</td>\n",
              "      <td>1101.430344</td>\n",
              "      <td>88.595418</td>\n",
              "      <td>40.938017</td>\n",
              "      <td>28.936560</td>\n",
              "      <td>79.807019</td>\n",
              "      <td>1.063735</td>\n",
              "      <td>0.247844</td>\n",
              "    </tr>\n",
              "    <tr>\n",
              "      <th>std</th>\n",
              "      <td>2.552881</td>\n",
              "      <td>7506.430084</td>\n",
              "      <td>404.956092</td>\n",
              "      <td>12.007508</td>\n",
              "      <td>35.393095</td>\n",
              "      <td>143.951963</td>\n",
              "      <td>0.711637</td>\n",
              "      <td>0.431766</td>\n",
              "    </tr>\n",
              "    <tr>\n",
              "      <th>min</th>\n",
              "      <td>1.000000</td>\n",
              "      <td>0.000000</td>\n",
              "      <td>0.000000</td>\n",
              "      <td>1.000000</td>\n",
              "      <td>1.000000</td>\n",
              "      <td>5.000000</td>\n",
              "      <td>1.000000</td>\n",
              "      <td>0.000000</td>\n",
              "    </tr>\n",
              "    <tr>\n",
              "      <th>25%</th>\n",
              "      <td>9.000000</td>\n",
              "      <td>0.000000</td>\n",
              "      <td>0.000000</td>\n",
              "      <td>40.000000</td>\n",
              "      <td>13.000000</td>\n",
              "      <td>5.000000</td>\n",
              "      <td>1.000000</td>\n",
              "      <td>0.000000</td>\n",
              "    </tr>\n",
              "    <tr>\n",
              "      <th>50%</th>\n",
              "      <td>10.000000</td>\n",
              "      <td>0.000000</td>\n",
              "      <td>0.000000</td>\n",
              "      <td>40.000000</td>\n",
              "      <td>13.000000</td>\n",
              "      <td>5.000000</td>\n",
              "      <td>1.000000</td>\n",
              "      <td>0.000000</td>\n",
              "    </tr>\n",
              "    <tr>\n",
              "      <th>75%</th>\n",
              "      <td>13.000000</td>\n",
              "      <td>0.000000</td>\n",
              "      <td>0.000000</td>\n",
              "      <td>45.000000</td>\n",
              "      <td>16.000000</td>\n",
              "      <td>173.000000</td>\n",
              "      <td>1.000000</td>\n",
              "      <td>0.000000</td>\n",
              "    </tr>\n",
              "    <tr>\n",
              "      <th>max</th>\n",
              "      <td>16.000000</td>\n",
              "      <td>99999.000000</td>\n",
              "      <td>4356.000000</td>\n",
              "      <td>99.000000</td>\n",
              "      <td>99.000000</td>\n",
              "      <td>999.000000</td>\n",
              "      <td>19.000000</td>\n",
              "      <td>1.000000</td>\n",
              "    </tr>\n",
              "  </tbody>\n",
              "</table>\n",
              "</div>"
            ],
            "text/plain": [
              "       education_num  capital_gain  ...    asset_code      approved\n",
              "count   45222.000000  45222.000000  ...  45140.000000  45222.000000\n",
              "mean       10.118460   1101.430344  ...      1.063735      0.247844\n",
              "std         2.552881   7506.430084  ...      0.711637      0.431766\n",
              "min         1.000000      0.000000  ...      1.000000      0.000000\n",
              "25%         9.000000      0.000000  ...      1.000000      0.000000\n",
              "50%        10.000000      0.000000  ...      1.000000      0.000000\n",
              "75%        13.000000      0.000000  ...      1.000000      0.000000\n",
              "max        16.000000  99999.000000  ...     19.000000      1.000000\n",
              "\n",
              "[8 rows x 8 columns]"
            ]
          },
          "metadata": {},
          "execution_count": 14
        }
      ]
    },
    {
      "cell_type": "markdown",
      "metadata": {
        "id": "zvdkSI-EdvtK"
      },
      "source": [
        "**Replacing the question marks with NaN**"
      ]
    },
    {
      "cell_type": "code",
      "metadata": {
        "id": "ndCuA5RKdwBC"
      },
      "source": [
        "data=data.replace('?',np.nan)"
      ],
      "execution_count": 15,
      "outputs": []
    },
    {
      "cell_type": "markdown",
      "metadata": {
        "id": "nrlxCuzUeUzy"
      },
      "source": [
        "**Filling the missing values with mean imputation and then Counting the number of Nan in the dataset**"
      ]
    },
    {
      "cell_type": "code",
      "metadata": {
        "colab": {
          "base_uri": "https://localhost:8080/"
        },
        "id": "OouMYa3neVIq",
        "outputId": "5f03d279-4f46-4939-d0c8-cfbe25ca0e70"
      },
      "source": [
        "data.fillna(data.mean(),inplace=True)\n",
        "data.isnull().values.sum()"
      ],
      "execution_count": 16,
      "outputs": [
        {
          "output_type": "execute_result",
          "data": {
            "text/plain": [
              "36055"
            ]
          },
          "metadata": {},
          "execution_count": 16
        }
      ]
    },
    {
      "cell_type": "markdown",
      "metadata": {
        "id": "TU6R03puy580"
      },
      "source": [
        "**Handling the missing value in non-numeric columns**"
      ]
    },
    {
      "cell_type": "code",
      "metadata": {
        "colab": {
          "base_uri": "https://localhost:8080/"
        },
        "id": "QCbAF3Jty6cp",
        "outputId": "55cbfa5a-0e88-47d8-9303-cc627ff71872"
      },
      "source": [
        "# looping over every column in dataset\n",
        "for column in data.columns:\n",
        "# checking the datatype of column is object or no  \n",
        "    if data[column].dtypes == 'object':\n",
        "# Replace the missing with most frequent value \n",
        "      data = data.fillna(data[column].value_counts().index[0])\n",
        "\n",
        "# Count the number of NaNs in the dataset and print it\n",
        "print(data.isnull().values.sum())"
      ],
      "execution_count": 17,
      "outputs": [
        {
          "output_type": "stream",
          "name": "stdout",
          "text": [
            "0\n"
          ]
        }
      ]
    },
    {
      "cell_type": "markdown",
      "metadata": {
        "id": "meShrhPGS32L"
      },
      "source": [
        "**Plotting the Correlation Matrix**"
      ]
    },
    {
      "cell_type": "code",
      "metadata": {
        "colab": {
          "base_uri": "https://localhost:8080/",
          "height": 709
        },
        "id": "3bzaJNEYS4IS",
        "outputId": "3515c790-f8bd-456f-a037-75708378a9fc"
      },
      "source": [
        "correlation = data.corr()\n",
        "fig = plt.figure(figsize = (15, 10))\n",
        "sns.heatmap(correlation, vmax = 1, square = True)\n",
        "plt.show()"
      ],
      "execution_count": 18,
      "outputs": [
        {
          "output_type": "display_data",
          "data": {
            "image/png": "[encoded data removed]",
            "text/plain": [
              "<Figure size 1080x720 with 2 Axes>"
            ]
          },
          "metadata": {}
        }
      ]
    },
    {
      "cell_type": "markdown",
      "metadata": {
        "id": "s0gPtKRMjzc0"
      },
      "source": [
        "**Checking the frequency of rejections and approvals of cards**"
      ]
    },
    {
      "cell_type": "code",
      "metadata": {
        "colab": {
          "base_uri": "https://localhost:8080/"
        },
        "id": "w8QhKKNTjzyS",
        "outputId": "988d09a5-62de-4626-a281-cd949cb94c08"
      },
      "source": [
        "data.approved.value_counts()"
      ],
      "execution_count": 19,
      "outputs": [
        {
          "output_type": "execute_result",
          "data": {
            "text/plain": [
              "0    34014\n",
              "1    11208\n",
              "Name: approved, dtype: int64"
            ]
          },
          "metadata": {},
          "execution_count": 19
        }
      ]
    },
    {
      "cell_type": "markdown",
      "metadata": {
        "id": "rE0vIrK4XHoy"
      },
      "source": [
        "**Dividing the data according to credit cards are approved or rejected**"
      ]
    },
    {
      "cell_type": "code",
      "metadata": {
        "id": "iVqpEohaWIib"
      },
      "source": [
        "rejected=data.loc[data['approved']==0]\n",
        "Approved=data.loc[data['approved']==1]"
      ],
      "execution_count": 20,
      "outputs": []
    },
    {
      "cell_type": "markdown",
      "metadata": {
        "id": "Izxmrj_KXad0"
      },
      "source": [
        "**Printing the rejected cards**"
      ]
    },
    {
      "cell_type": "code",
      "metadata": {
        "colab": {
          "base_uri": "https://localhost:8080/",
          "height": 941
        },
        "id": "OZWElmFCWm1a",
        "outputId": "adac9ece-6dc3-468c-a56e-2891cafc7912"
      },
      "source": [
        "rejected"
      ],
      "execution_count": 21,
      "outputs": [
        {
          "output_type": "execute_result",
          "data": {
            "text/html": [
              "<div>\n",
              "<style scoped>\n",
              "    .dataframe tbody tr th:only-of-type {\n",
              "        vertical-align: middle;\n",
              "    }\n",
              "\n",
              "    .dataframe tbody tr th {\n",
              "        vertical-align: top;\n",
              "    }\n",
              "\n",
              "    .dataframe thead th {\n",
              "        text-align: right;\n",
              "    }\n",
              "</style>\n",
              "<table border=\"1\" class=\"dataframe\">\n",
              "  <thead>\n",
              "    <tr style=\"text-align: right;\">\n",
              "      <th></th>\n",
              "      <th>user_id</th>\n",
              "      <th>gender</th>\n",
              "      <th>date_of_birth</th>\n",
              "      <th>workclass</th>\n",
              "      <th>education_level</th>\n",
              "      <th>education_num</th>\n",
              "      <th>marital_status</th>\n",
              "      <th>occupation</th>\n",
              "      <th>relationship</th>\n",
              "      <th>capital_gain</th>\n",
              "      <th>capital_loss</th>\n",
              "      <th>hours_per_week</th>\n",
              "      <th>address</th>\n",
              "      <th>email</th>\n",
              "      <th>inquiry_purpose_code</th>\n",
              "      <th>institute_type</th>\n",
              "      <th>account_type</th>\n",
              "      <th>asset_class_cd</th>\n",
              "      <th>asset_code</th>\n",
              "      <th>portfolio_type</th>\n",
              "      <th>approved</th>\n",
              "    </tr>\n",
              "  </thead>\n",
              "  <tbody>\n",
              "    <tr>\n",
              "      <th>0</th>\n",
              "      <td>307c73a3-0c67-43b5-b0d1-62ad5f00b52a</td>\n",
              "      <td>Female</td>\n",
              "      <td>1987-01-03</td>\n",
              "      <td>Private</td>\n",
              "      <td>11th</td>\n",
              "      <td>7.0</td>\n",
              "      <td>Never-married</td>\n",
              "      <td>Sales</td>\n",
              "      <td>Unmarried</td>\n",
              "      <td>0.0</td>\n",
              "      <td>0.0</td>\n",
              "      <td>17.0</td>\n",
              "      <td>45424 Norris Common Apt. 390\\r\\nNorth Mike, AR...</td>\n",
              "      <td>vasquezleah@yahoo.com</td>\n",
              "      <td>7.00000</td>\n",
              "      <td>PVT</td>\n",
              "      <td>5</td>\n",
              "      <td>d6ada12b-4bd0-4050-9b25-de24c7868ba1</td>\n",
              "      <td>1.0</td>\n",
              "      <td>R</td>\n",
              "      <td>0</td>\n",
              "    </tr>\n",
              "    <tr>\n",
              "      <th>1</th>\n",
              "      <td>519481f1-604d-48b6-aa47-4123a982431a</td>\n",
              "      <td>Male</td>\n",
              "      <td>1970-01-07</td>\n",
              "      <td>Self-emp-not-inc</td>\n",
              "      <td>Some-college</td>\n",
              "      <td>10.0</td>\n",
              "      <td>Married-civ-spouse</td>\n",
              "      <td>Craft-repair</td>\n",
              "      <td>Husband</td>\n",
              "      <td>0.0</td>\n",
              "      <td>0.0</td>\n",
              "      <td>48.0</td>\n",
              "      <td>5022 Rebecca Haven Apt. 258\\r\\nThompsonfurt, C...</td>\n",
              "      <td>johnsontrevor@hotmail.com</td>\n",
              "      <td>13.00000</td>\n",
              "      <td>NBF</td>\n",
              "      <td>5</td>\n",
              "      <td>d6ada12b-4bd0-4050-9b25-de24c7868ba1</td>\n",
              "      <td>1.0</td>\n",
              "      <td>R</td>\n",
              "      <td>0</td>\n",
              "    </tr>\n",
              "    <tr>\n",
              "      <th>2</th>\n",
              "      <td>f66fe2c6-53e3-46ce-8321-e530b4af1ace</td>\n",
              "      <td>Male</td>\n",
              "      <td>1973-01-06</td>\n",
              "      <td>Private</td>\n",
              "      <td>HS-grad</td>\n",
              "      <td>9.0</td>\n",
              "      <td>Divorced</td>\n",
              "      <td>Sales</td>\n",
              "      <td>Not-in-family</td>\n",
              "      <td>0.0</td>\n",
              "      <td>0.0</td>\n",
              "      <td>50.0</td>\n",
              "      <td>8780 Brown Loaf Apt. 099\\r\\nNorth David, NJ 56510</td>\n",
              "      <td>morganemily@gmail.com</td>\n",
              "      <td>13.00000</td>\n",
              "      <td>NBF</td>\n",
              "      <td>5</td>\n",
              "      <td>d6ada12b-4bd0-4050-9b25-de24c7868ba1</td>\n",
              "      <td>1.0</td>\n",
              "      <td>R</td>\n",
              "      <td>0</td>\n",
              "    </tr>\n",
              "    <tr>\n",
              "      <th>3</th>\n",
              "      <td>91360ed7-72d1-4f6e-b492-d71ef4480061</td>\n",
              "      <td>Female</td>\n",
              "      <td>2001-12-30</td>\n",
              "      <td>Private</td>\n",
              "      <td>11th</td>\n",
              "      <td>7.0</td>\n",
              "      <td>Never-married</td>\n",
              "      <td>Sales</td>\n",
              "      <td>Own-child</td>\n",
              "      <td>0.0</td>\n",
              "      <td>0.0</td>\n",
              "      <td>15.0</td>\n",
              "      <td>721 Jackson Extensions Suite 995\\r\\nNew Tarasi...</td>\n",
              "      <td>agarcia@hotmail.com</td>\n",
              "      <td>13.00000</td>\n",
              "      <td>NBF</td>\n",
              "      <td>5</td>\n",
              "      <td>d6ada12b-4bd0-4050-9b25-de24c7868ba1</td>\n",
              "      <td>1.0</td>\n",
              "      <td>R</td>\n",
              "      <td>0</td>\n",
              "    </tr>\n",
              "    <tr>\n",
              "      <th>4</th>\n",
              "      <td>0e1977f3-3bef-4283-8d0a-d60b0f6ff480</td>\n",
              "      <td>Male</td>\n",
              "      <td>1986-01-03</td>\n",
              "      <td>Private</td>\n",
              "      <td>Some-college</td>\n",
              "      <td>10.0</td>\n",
              "      <td>Married-civ-spouse</td>\n",
              "      <td>Handlers-cleaners</td>\n",
              "      <td>Husband</td>\n",
              "      <td>0.0</td>\n",
              "      <td>0.0</td>\n",
              "      <td>50.0</td>\n",
              "      <td>935 Burch Divide\\r\\nLake Bobbyfurt, VT 14128</td>\n",
              "      <td>shermanmeredith@gmail.com</td>\n",
              "      <td>13.00000</td>\n",
              "      <td>PVT</td>\n",
              "      <td>47</td>\n",
              "      <td>S</td>\n",
              "      <td>1.0</td>\n",
              "      <td>I</td>\n",
              "      <td>0</td>\n",
              "    </tr>\n",
              "    <tr>\n",
              "      <th>...</th>\n",
              "      <td>...</td>\n",
              "      <td>...</td>\n",
              "      <td>...</td>\n",
              "      <td>...</td>\n",
              "      <td>...</td>\n",
              "      <td>...</td>\n",
              "      <td>...</td>\n",
              "      <td>...</td>\n",
              "      <td>...</td>\n",
              "      <td>...</td>\n",
              "      <td>...</td>\n",
              "      <td>...</td>\n",
              "      <td>...</td>\n",
              "      <td>...</td>\n",
              "      <td>...</td>\n",
              "      <td>...</td>\n",
              "      <td>...</td>\n",
              "      <td>...</td>\n",
              "      <td>...</td>\n",
              "      <td>...</td>\n",
              "      <td>...</td>\n",
              "    </tr>\n",
              "    <tr>\n",
              "      <th>34009</th>\n",
              "      <td>9566bdcc-34aa-48f7-8783-5d4d994cf5cd</td>\n",
              "      <td>Female</td>\n",
              "      <td>2000-12-30</td>\n",
              "      <td>Private</td>\n",
              "      <td>HS-grad</td>\n",
              "      <td>9.0</td>\n",
              "      <td>Never-married</td>\n",
              "      <td>Other-service</td>\n",
              "      <td>Own-child</td>\n",
              "      <td>34095.0</td>\n",
              "      <td>0.0</td>\n",
              "      <td>20.0</td>\n",
              "      <td>259 Kyle Course Apt. 209\\r\\nNew Toddmouth, MA ...</td>\n",
              "      <td>josephhood@yahoo.com</td>\n",
              "      <td>16.00000</td>\n",
              "      <td>NBF</td>\n",
              "      <td>5</td>\n",
              "      <td>d6ada12b-4bd0-4050-9b25-de24c7868ba1</td>\n",
              "      <td>1.0</td>\n",
              "      <td>R</td>\n",
              "      <td>0</td>\n",
              "    </tr>\n",
              "    <tr>\n",
              "      <th>34010</th>\n",
              "      <td>c46471f2-f28e-48b0-8557-937838beaf0e</td>\n",
              "      <td>Male</td>\n",
              "      <td>1965-01-08</td>\n",
              "      <td>Self-emp-not-inc</td>\n",
              "      <td>HS-grad</td>\n",
              "      <td>9.0</td>\n",
              "      <td>Divorced</td>\n",
              "      <td>Exec-managerial</td>\n",
              "      <td>Not-in-family</td>\n",
              "      <td>34095.0</td>\n",
              "      <td>0.0</td>\n",
              "      <td>60.0</td>\n",
              "      <td>10754 Stephanie Drive\\r\\nSouth Johnmouth, AR 9...</td>\n",
              "      <td>erika74@gmail.com</td>\n",
              "      <td>28.93656</td>\n",
              "      <td>PVT</td>\n",
              "      <td>5</td>\n",
              "      <td>d6ada12b-4bd0-4050-9b25-de24c7868ba1</td>\n",
              "      <td>1.0</td>\n",
              "      <td>R</td>\n",
              "      <td>0</td>\n",
              "    </tr>\n",
              "    <tr>\n",
              "      <th>34011</th>\n",
              "      <td>a8b04584-54ec-4d52-af0c-630b435fc3c9</td>\n",
              "      <td>Male</td>\n",
              "      <td>1984-01-04</td>\n",
              "      <td>Self-emp-not-inc</td>\n",
              "      <td>HS-grad</td>\n",
              "      <td>9.0</td>\n",
              "      <td>Married-civ-spouse</td>\n",
              "      <td>Exec-managerial</td>\n",
              "      <td>Husband</td>\n",
              "      <td>41310.0</td>\n",
              "      <td>0.0</td>\n",
              "      <td>90.0</td>\n",
              "      <td>295 Greer Grove\\r\\nKariborough, MT 89651</td>\n",
              "      <td>khawkins@white-moore.org</td>\n",
              "      <td>13.00000</td>\n",
              "      <td>NBF</td>\n",
              "      <td>189</td>\n",
              "      <td>d6ada12b-4bd0-4050-9b25-de24c7868ba1</td>\n",
              "      <td>1.0</td>\n",
              "      <td>I</td>\n",
              "      <td>0</td>\n",
              "    </tr>\n",
              "    <tr>\n",
              "      <th>34012</th>\n",
              "      <td>f2ecd5ab-8b3e-4d87-94a0-2943bccd3fa5</td>\n",
              "      <td>Male</td>\n",
              "      <td>1993-01-01</td>\n",
              "      <td>Private</td>\n",
              "      <td>Preschool</td>\n",
              "      <td>1.0</td>\n",
              "      <td>Married-civ-spouse</td>\n",
              "      <td>Farming-fishing</td>\n",
              "      <td>Other-relative</td>\n",
              "      <td>41310.0</td>\n",
              "      <td>0.0</td>\n",
              "      <td>24.0</td>\n",
              "      <td>PSC 0200, Box 2001\\r\\nAPO AA 31658</td>\n",
              "      <td>probinson@gmail.com</td>\n",
              "      <td>13.00000</td>\n",
              "      <td>NBF</td>\n",
              "      <td>5</td>\n",
              "      <td>d6ada12b-4bd0-4050-9b25-de24c7868ba1</td>\n",
              "      <td>1.0</td>\n",
              "      <td>R</td>\n",
              "      <td>0</td>\n",
              "    </tr>\n",
              "    <tr>\n",
              "      <th>34013</th>\n",
              "      <td>d49d0d03-108e-4901-a48f-6a0f0da5b233</td>\n",
              "      <td>Male</td>\n",
              "      <td>1957-01-10</td>\n",
              "      <td>Self-emp-not-inc</td>\n",
              "      <td>Masters</td>\n",
              "      <td>14.0</td>\n",
              "      <td>Married-civ-spouse</td>\n",
              "      <td>Farming-fishing</td>\n",
              "      <td>Husband</td>\n",
              "      <td>41310.0</td>\n",
              "      <td>0.0</td>\n",
              "      <td>50.0</td>\n",
              "      <td>7875 Mcdaniel Skyway\\r\\nNew Angelabury, OR 92961</td>\n",
              "      <td>james95@ware.biz</td>\n",
              "      <td>2.00000</td>\n",
              "      <td>PUB</td>\n",
              "      <td>130</td>\n",
              "      <td>S</td>\n",
              "      <td>1.0</td>\n",
              "      <td>I</td>\n",
              "      <td>0</td>\n",
              "    </tr>\n",
              "  </tbody>\n",
              "</table>\n",
              "<p>34014 rows × 21 columns</p>\n",
              "</div>"
            ],
            "text/plain": [
              "                                    user_id   gender  ... portfolio_type approved\n",
              "0      307c73a3-0c67-43b5-b0d1-62ad5f00b52a   Female  ...              R        0\n",
              "1      519481f1-604d-48b6-aa47-4123a982431a     Male  ...              R        0\n",
              "2      f66fe2c6-53e3-46ce-8321-e530b4af1ace     Male  ...              R        0\n",
              "3      91360ed7-72d1-4f6e-b492-d71ef4480061   Female  ...              R        0\n",
              "4      0e1977f3-3bef-4283-8d0a-d60b0f6ff480     Male  ...              I        0\n",
              "...                                     ...      ...  ...            ...      ...\n",
              "34009  9566bdcc-34aa-48f7-8783-5d4d994cf5cd   Female  ...              R        0\n",
              "34010  c46471f2-f28e-48b0-8557-937838beaf0e     Male  ...              R        0\n",
              "34011  a8b04584-54ec-4d52-af0c-630b435fc3c9     Male  ...              I        0\n",
              "34012  f2ecd5ab-8b3e-4d87-94a0-2943bccd3fa5     Male  ...              R        0\n",
              "34013  d49d0d03-108e-4901-a48f-6a0f0da5b233     Male  ...              I        0\n",
              "\n",
              "[34014 rows x 21 columns]"
            ]
          },
          "metadata": {},
          "execution_count": 21
        }
      ]
    },
    {
      "cell_type": "markdown",
      "metadata": {
        "id": "CTs0bsj-YypZ"
      },
      "source": [
        "**Printing the Approved cards**"
      ]
    },
    {
      "cell_type": "code",
      "metadata": {
        "colab": {
          "base_uri": "https://localhost:8080/",
          "height": 941
        },
        "id": "xKu7RLG9Y1kx",
        "outputId": "d8cd81d9-4b56-4990-f6cc-587fc7eee0b4"
      },
      "source": [
        "Approved"
      ],
      "execution_count": 22,
      "outputs": [
        {
          "output_type": "execute_result",
          "data": {
            "text/html": [
              "<div>\n",
              "<style scoped>\n",
              "    .dataframe tbody tr th:only-of-type {\n",
              "        vertical-align: middle;\n",
              "    }\n",
              "\n",
              "    .dataframe tbody tr th {\n",
              "        vertical-align: top;\n",
              "    }\n",
              "\n",
              "    .dataframe thead th {\n",
              "        text-align: right;\n",
              "    }\n",
              "</style>\n",
              "<table border=\"1\" class=\"dataframe\">\n",
              "  <thead>\n",
              "    <tr style=\"text-align: right;\">\n",
              "      <th></th>\n",
              "      <th>user_id</th>\n",
              "      <th>gender</th>\n",
              "      <th>date_of_birth</th>\n",
              "      <th>workclass</th>\n",
              "      <th>education_level</th>\n",
              "      <th>education_num</th>\n",
              "      <th>marital_status</th>\n",
              "      <th>occupation</th>\n",
              "      <th>relationship</th>\n",
              "      <th>capital_gain</th>\n",
              "      <th>capital_loss</th>\n",
              "      <th>hours_per_week</th>\n",
              "      <th>address</th>\n",
              "      <th>email</th>\n",
              "      <th>inquiry_purpose_code</th>\n",
              "      <th>institute_type</th>\n",
              "      <th>account_type</th>\n",
              "      <th>asset_class_cd</th>\n",
              "      <th>asset_code</th>\n",
              "      <th>portfolio_type</th>\n",
              "      <th>approved</th>\n",
              "    </tr>\n",
              "  </thead>\n",
              "  <tbody>\n",
              "    <tr>\n",
              "      <th>34014</th>\n",
              "      <td>3b87da86-5bf6-4da1-9d93-242c59a16c64</td>\n",
              "      <td>Male</td>\n",
              "      <td>1961-01-09</td>\n",
              "      <td>Private</td>\n",
              "      <td>Doctorate</td>\n",
              "      <td>16.0</td>\n",
              "      <td>Married-civ-spouse</td>\n",
              "      <td>Exec-managerial</td>\n",
              "      <td>Husband</td>\n",
              "      <td>0.0</td>\n",
              "      <td>0.0</td>\n",
              "      <td>40.0</td>\n",
              "      <td>6333 Melissa Orchard\\r\\nAlejandramouth, AZ 17140</td>\n",
              "      <td>carrkelly@yahoo.com</td>\n",
              "      <td>28.93656</td>\n",
              "      <td>NBF</td>\n",
              "      <td>189</td>\n",
              "      <td>d6ada12b-4bd0-4050-9b25-de24c7868ba1</td>\n",
              "      <td>1.0</td>\n",
              "      <td>I</td>\n",
              "      <td>1</td>\n",
              "    </tr>\n",
              "    <tr>\n",
              "      <th>34015</th>\n",
              "      <td>cca3860f-fc77-4543-b55d-0e15511198a0</td>\n",
              "      <td>Male</td>\n",
              "      <td>1967-01-08</td>\n",
              "      <td>Private</td>\n",
              "      <td>Assoc-voc</td>\n",
              "      <td>11.0</td>\n",
              "      <td>Married-civ-spouse</td>\n",
              "      <td>Exec-managerial</td>\n",
              "      <td>Husband</td>\n",
              "      <td>0.0</td>\n",
              "      <td>0.0</td>\n",
              "      <td>40.0</td>\n",
              "      <td>43114 Cabrera Junctions Suite 186\\r\\nNorth Jes...</td>\n",
              "      <td>harristiffany@yahoo.com</td>\n",
              "      <td>99.00000</td>\n",
              "      <td>PVT</td>\n",
              "      <td>5</td>\n",
              "      <td>d6ada12b-4bd0-4050-9b25-de24c7868ba1</td>\n",
              "      <td>1.0</td>\n",
              "      <td>R</td>\n",
              "      <td>1</td>\n",
              "    </tr>\n",
              "    <tr>\n",
              "      <th>34016</th>\n",
              "      <td>bc08501f-eade-43d9-9c3b-9cd74457ea7d</td>\n",
              "      <td>Male</td>\n",
              "      <td>1969-01-07</td>\n",
              "      <td>Private</td>\n",
              "      <td>HS-grad</td>\n",
              "      <td>9.0</td>\n",
              "      <td>Married-civ-spouse</td>\n",
              "      <td>Protective-serv</td>\n",
              "      <td>Husband</td>\n",
              "      <td>0.0</td>\n",
              "      <td>0.0</td>\n",
              "      <td>40.0</td>\n",
              "      <td>25352 Garcia Ridge\\r\\nJessicaside, LA 77106</td>\n",
              "      <td>jameshenry@king.info</td>\n",
              "      <td>13.00000</td>\n",
              "      <td>PVT</td>\n",
              "      <td>5</td>\n",
              "      <td>d6ada12b-4bd0-4050-9b25-de24c7868ba1</td>\n",
              "      <td>1.0</td>\n",
              "      <td>R</td>\n",
              "      <td>1</td>\n",
              "    </tr>\n",
              "    <tr>\n",
              "      <th>34017</th>\n",
              "      <td>1aabd327-09c5-406f-ba23-7c0162fcf2b1</td>\n",
              "      <td>Male</td>\n",
              "      <td>1979-01-05</td>\n",
              "      <td>Private</td>\n",
              "      <td>HS-grad</td>\n",
              "      <td>9.0</td>\n",
              "      <td>Married-civ-spouse</td>\n",
              "      <td>Transport-moving</td>\n",
              "      <td>Husband</td>\n",
              "      <td>0.0</td>\n",
              "      <td>0.0</td>\n",
              "      <td>40.0</td>\n",
              "      <td>130 Terrell Landing\\r\\nAnnemouth, VT 56232</td>\n",
              "      <td>ryan21@whitaker.net</td>\n",
              "      <td>14.00000</td>\n",
              "      <td>HFC</td>\n",
              "      <td>58</td>\n",
              "      <td>d6ada12b-4bd0-4050-9b25-de24c7868ba1</td>\n",
              "      <td>2.0</td>\n",
              "      <td>M</td>\n",
              "      <td>1</td>\n",
              "    </tr>\n",
              "    <tr>\n",
              "      <th>34018</th>\n",
              "      <td>422898cc-0745-4305-8e2e-74829a29167f</td>\n",
              "      <td>Male</td>\n",
              "      <td>1958-01-10</td>\n",
              "      <td>Private</td>\n",
              "      <td>Bachelors</td>\n",
              "      <td>13.0</td>\n",
              "      <td>Married-civ-spouse</td>\n",
              "      <td>Prof-specialty</td>\n",
              "      <td>Husband</td>\n",
              "      <td>0.0</td>\n",
              "      <td>0.0</td>\n",
              "      <td>50.0</td>\n",
              "      <td>914 Sherry Coves Suite 283\\r\\nWest Tammystad, ...</td>\n",
              "      <td>mooremiranda@king.info</td>\n",
              "      <td>7.00000</td>\n",
              "      <td>PVT</td>\n",
              "      <td>189</td>\n",
              "      <td>d6ada12b-4bd0-4050-9b25-de24c7868ba1</td>\n",
              "      <td>1.0</td>\n",
              "      <td>I</td>\n",
              "      <td>1</td>\n",
              "    </tr>\n",
              "    <tr>\n",
              "      <th>...</th>\n",
              "      <td>...</td>\n",
              "      <td>...</td>\n",
              "      <td>...</td>\n",
              "      <td>...</td>\n",
              "      <td>...</td>\n",
              "      <td>...</td>\n",
              "      <td>...</td>\n",
              "      <td>...</td>\n",
              "      <td>...</td>\n",
              "      <td>...</td>\n",
              "      <td>...</td>\n",
              "      <td>...</td>\n",
              "      <td>...</td>\n",
              "      <td>...</td>\n",
              "      <td>...</td>\n",
              "      <td>...</td>\n",
              "      <td>...</td>\n",
              "      <td>...</td>\n",
              "      <td>...</td>\n",
              "      <td>...</td>\n",
              "      <td>...</td>\n",
              "    </tr>\n",
              "    <tr>\n",
              "      <th>45217</th>\n",
              "      <td>6f5de269-e3b6-4aa0-84a5-e2ab5d3e455c</td>\n",
              "      <td>Male</td>\n",
              "      <td>1976-01-06</td>\n",
              "      <td>Private</td>\n",
              "      <td>Prof-school</td>\n",
              "      <td>15.0</td>\n",
              "      <td>Married-civ-spouse</td>\n",
              "      <td>Prof-specialty</td>\n",
              "      <td>Husband</td>\n",
              "      <td>99999.0</td>\n",
              "      <td>0.0</td>\n",
              "      <td>60.0</td>\n",
              "      <td>38911 Heather Ranch\\r\\nEast Carolyn, ND 59814</td>\n",
              "      <td>jack72@richards.com</td>\n",
              "      <td>7.00000</td>\n",
              "      <td>PVT</td>\n",
              "      <td>5</td>\n",
              "      <td>d6ada12b-4bd0-4050-9b25-de24c7868ba1</td>\n",
              "      <td>1.0</td>\n",
              "      <td>R</td>\n",
              "      <td>1</td>\n",
              "    </tr>\n",
              "    <tr>\n",
              "      <th>45218</th>\n",
              "      <td>e8e5fd1d-ef19-4652-b6e7-5ba18449e80e</td>\n",
              "      <td>Male</td>\n",
              "      <td>1977-01-05</td>\n",
              "      <td>Private</td>\n",
              "      <td>Prof-school</td>\n",
              "      <td>15.0</td>\n",
              "      <td>Married-spouse-absent</td>\n",
              "      <td>Prof-specialty</td>\n",
              "      <td>Not-in-family</td>\n",
              "      <td>99999.0</td>\n",
              "      <td>0.0</td>\n",
              "      <td>40.0</td>\n",
              "      <td>20346 Fitzpatrick Prairie Suite 117\\r\\nWeaverh...</td>\n",
              "      <td>jason17@johnson-williams.org</td>\n",
              "      <td>7.00000</td>\n",
              "      <td>PVT</td>\n",
              "      <td>5</td>\n",
              "      <td>d6ada12b-4bd0-4050-9b25-de24c7868ba1</td>\n",
              "      <td>1.0</td>\n",
              "      <td>R</td>\n",
              "      <td>1</td>\n",
              "    </tr>\n",
              "    <tr>\n",
              "      <th>45219</th>\n",
              "      <td>1b3ed3e9-0283-4ba4-a7c7-f608f03f296e</td>\n",
              "      <td>Male</td>\n",
              "      <td>1964-01-09</td>\n",
              "      <td>Self-emp-inc</td>\n",
              "      <td>Prof-school</td>\n",
              "      <td>15.0</td>\n",
              "      <td>Married-civ-spouse</td>\n",
              "      <td>Prof-specialty</td>\n",
              "      <td>Husband</td>\n",
              "      <td>99999.0</td>\n",
              "      <td>0.0</td>\n",
              "      <td>45.0</td>\n",
              "      <td>653 Valerie Cliffs Suite 914\\r\\nPort Hannah, D...</td>\n",
              "      <td>qdaniels@hotmail.com</td>\n",
              "      <td>13.00000</td>\n",
              "      <td>NBF</td>\n",
              "      <td>189</td>\n",
              "      <td>d6ada12b-4bd0-4050-9b25-de24c7868ba1</td>\n",
              "      <td>1.0</td>\n",
              "      <td>I</td>\n",
              "      <td>1</td>\n",
              "    </tr>\n",
              "    <tr>\n",
              "      <th>45220</th>\n",
              "      <td>642859b2-f587-48ef-a5b1-89710301fc71</td>\n",
              "      <td>Male</td>\n",
              "      <td>1979-01-05</td>\n",
              "      <td>Private</td>\n",
              "      <td>Bachelors</td>\n",
              "      <td>13.0</td>\n",
              "      <td>Married-civ-spouse</td>\n",
              "      <td>Craft-repair</td>\n",
              "      <td>Husband</td>\n",
              "      <td>99999.0</td>\n",
              "      <td>0.0</td>\n",
              "      <td>40.0</td>\n",
              "      <td>6957 Daniel Avenue\\r\\nWest Jason, VA 80167</td>\n",
              "      <td>whitakersteven@yahoo.com</td>\n",
              "      <td>7.00000</td>\n",
              "      <td>PVT</td>\n",
              "      <td>5</td>\n",
              "      <td>d6ada12b-4bd0-4050-9b25-de24c7868ba1</td>\n",
              "      <td>1.0</td>\n",
              "      <td>R</td>\n",
              "      <td>1</td>\n",
              "    </tr>\n",
              "    <tr>\n",
              "      <th>45221</th>\n",
              "      <td>82eab6e5-57ab-4fd7-8923-e7790390c473</td>\n",
              "      <td>Male</td>\n",
              "      <td>1977-01-05</td>\n",
              "      <td>Private</td>\n",
              "      <td>Bachelors</td>\n",
              "      <td>13.0</td>\n",
              "      <td>Married-civ-spouse</td>\n",
              "      <td>Exec-managerial</td>\n",
              "      <td>Husband</td>\n",
              "      <td>99999.0</td>\n",
              "      <td>0.0</td>\n",
              "      <td>50.0</td>\n",
              "      <td>100 Brian Course\\r\\nJesusville, MD 36505</td>\n",
              "      <td>gmiller@graham.com</td>\n",
              "      <td>99.00000</td>\n",
              "      <td>PVT</td>\n",
              "      <td>5</td>\n",
              "      <td>d6ada12b-4bd0-4050-9b25-de24c7868ba1</td>\n",
              "      <td>1.0</td>\n",
              "      <td>R</td>\n",
              "      <td>1</td>\n",
              "    </tr>\n",
              "  </tbody>\n",
              "</table>\n",
              "<p>11208 rows × 21 columns</p>\n",
              "</div>"
            ],
            "text/plain": [
              "                                    user_id gender  ... portfolio_type approved\n",
              "34014  3b87da86-5bf6-4da1-9d93-242c59a16c64   Male  ...              I        1\n",
              "34015  cca3860f-fc77-4543-b55d-0e15511198a0   Male  ...              R        1\n",
              "34016  bc08501f-eade-43d9-9c3b-9cd74457ea7d   Male  ...              R        1\n",
              "34017  1aabd327-09c5-406f-ba23-7c0162fcf2b1   Male  ...              M        1\n",
              "34018  422898cc-0745-4305-8e2e-74829a29167f   Male  ...              I        1\n",
              "...                                     ...    ...  ...            ...      ...\n",
              "45217  6f5de269-e3b6-4aa0-84a5-e2ab5d3e455c   Male  ...              R        1\n",
              "45218  e8e5fd1d-ef19-4652-b6e7-5ba18449e80e   Male  ...              R        1\n",
              "45219  1b3ed3e9-0283-4ba4-a7c7-f608f03f296e   Male  ...              I        1\n",
              "45220  642859b2-f587-48ef-a5b1-89710301fc71   Male  ...              R        1\n",
              "45221  82eab6e5-57ab-4fd7-8923-e7790390c473   Male  ...              R        1\n",
              "\n",
              "[11208 rows x 21 columns]"
            ]
          },
          "metadata": {},
          "execution_count": 22
        }
      ]
    },
    {
      "cell_type": "markdown",
      "metadata": {
        "id": "AN7zvk_rZGpS"
      },
      "source": [
        "**Length of Approved cards**"
      ]
    },
    {
      "cell_type": "code",
      "metadata": {
        "colab": {
          "base_uri": "https://localhost:8080/"
        },
        "id": "CLb0eRYlZG_x",
        "outputId": "9190f0a7-7ced-415c-b025-d5eff5cc27c0"
      },
      "source": [
        "len(Approved)"
      ],
      "execution_count": 23,
      "outputs": [
        {
          "output_type": "execute_result",
          "data": {
            "text/plain": [
              "11208"
            ]
          },
          "metadata": {},
          "execution_count": 23
        }
      ]
    },
    {
      "cell_type": "markdown",
      "metadata": {
        "id": "NlwyNk0UZHR6"
      },
      "source": [
        "**Length of rejected cards**"
      ]
    },
    {
      "cell_type": "code",
      "metadata": {
        "colab": {
          "base_uri": "https://localhost:8080/"
        },
        "id": "JE2KTGy8ZHja",
        "outputId": "4b60ef95-d0f2-4c05-ff78-6c269043cec8"
      },
      "source": [
        "len(rejected)"
      ],
      "execution_count": 24,
      "outputs": [
        {
          "output_type": "execute_result",
          "data": {
            "text/plain": [
              "34014"
            ]
          },
          "metadata": {},
          "execution_count": 24
        }
      ]
    },
    {
      "cell_type": "markdown",
      "metadata": {
        "id": "A9ErbxPieqce"
      },
      "source": [
        "**Plotting the category plot**"
      ]
    },
    {
      "cell_type": "code",
      "metadata": {
        "colab": {
          "base_uri": "https://localhost:8080/",
          "height": 382
        },
        "id": "kBkK35OBbdqS",
        "outputId": "570124e3-a6ff-4519-d6b1-c147e1de9821"
      },
      "source": [
        "sns.catplot(x='capital_gain',y='hours_per_week',hue='approved',data=data)"
      ],
      "execution_count": 25,
      "outputs": [
        {
          "output_type": "execute_result",
          "data": {
            "text/plain": [
              "<seaborn.axisgrid.FacetGrid at 0x7f2d1164d450>"
            ]
          },
          "metadata": {},
          "execution_count": 25
        },
        {
          "output_type": "display_data",
          "data": {
            "image/png": "[encoded data removed]",
            "text/plain": [
              "<Figure size 425.675x360 with 1 Axes>"
            ]
          },
          "metadata": {}
        }
      ]
    },
    {
      "cell_type": "markdown",
      "metadata": {
        "id": "PfaO_U55kXfb"
      },
      "source": [
        "**Conversion of non numeric data to numeric**"
      ]
    },
    {
      "cell_type": "code",
      "metadata": {
        "id": "qJ8pZaO3kXzS"
      },
      "source": [
        "labelencoder = LabelEncoder()\n",
        "\n",
        "# looping over every column in dataset\n",
        "for column in data.columns:\n",
        "# checking the datatype of column is object or no  \n",
        "    if data[column].dtypes == 'object':\n",
        "# Transformation to the numeric value using label encoder \n",
        "      data[column] = labelencoder.fit_transform(data[column])"
      ],
      "execution_count": 26,
      "outputs": []
    },
    {
      "cell_type": "markdown",
      "metadata": {
        "id": "SktkVb2dKPB8"
      },
      "source": [
        "NOW ALL THE FIELDS ARE IN NUMERIC DATATYPE...."
      ]
    },
    {
      "cell_type": "markdown",
      "metadata": {
        "id": "UU9DaC7hMvXd"
      },
      "source": [
        "**Converting dataframe to array and then Separating Independent and dependent variables**"
      ]
    },
    {
      "cell_type": "code",
      "metadata": {
        "id": "_k5uej8cOUp-"
      },
      "source": [
        "dt=data.values\n",
        "X= dt[:,0:-1]\n",
        "Y= dt[:,20]"
      ],
      "execution_count": 27,
      "outputs": []
    },
    {
      "cell_type": "markdown",
      "metadata": {
        "id": "hzM_0HlHKVwF"
      },
      "source": [
        "**Splitting the dataset into training and testing datasets**"
      ]
    },
    {
      "cell_type": "code",
      "metadata": {
        "id": "2eNbHB_JkYZy"
      },
      "source": [
        "X_train, X_test, Y_train, Y_test = train_test_split(X,Y,test_size=0.3,random_state=4)"
      ],
      "execution_count": 28,
      "outputs": []
    },
    {
      "cell_type": "markdown",
      "metadata": {
        "id": "sX2eupFEOGZ5"
      },
      "source": [
        "**Checking the size of training and testing datasets**"
      ]
    },
    {
      "cell_type": "code",
      "metadata": {
        "colab": {
          "base_uri": "https://localhost:8080/"
        },
        "id": "sAMBMZ7BrPWS",
        "outputId": "0d9a689b-3484-436f-9d4a-5128cb7dc2d5"
      },
      "source": [
        "training_size = len(X_train)\n",
        "test_size = len(X_test)\n",
        "print('Size of training and testing : ',training_size,test_size)"
      ],
      "execution_count": 29,
      "outputs": [
        {
          "output_type": "stream",
          "name": "stdout",
          "text": [
            "Size of training and testing :  31655 13567\n"
          ]
        }
      ]
    },
    {
      "cell_type": "markdown",
      "metadata": {
        "id": "QjuAXJCbwggj"
      },
      "source": [
        "**Apply MinMax Scaler to transform the values between 0 and 1**"
      ]
    },
    {
      "cell_type": "code",
      "metadata": {
        "id": "wtMbcvr0wg3x"
      },
      "source": [
        "scaler = MinMaxScaler(feature_range=(0, 1))\n",
        "r_train = scaler.fit_transform(X_train)   #rescaling training dataset\n",
        "r_test = scaler.fit_transform(X_test)     #rescaling testing dataset"
      ],
      "execution_count": 30,
      "outputs": []
    },
    {
      "cell_type": "markdown",
      "metadata": {
        "id": "NggmO7oHxDCK"
      },
      "source": [
        "**Logistic Regression as a model**"
      ]
    },
    {
      "cell_type": "code",
      "metadata": {
        "colab": {
          "base_uri": "https://localhost:8080/"
        },
        "id": "bL8Puif8xDXq",
        "outputId": "2ee8801d-aea2-4841-bfce-699f6ccf0457"
      },
      "source": [
        "model = LogisticRegression()\n",
        "model.fit(r_train, Y_train)\n",
        "prediction = model.predict(r_test)\n",
        "print('Accuracy:',metrics.accuracy_score(prediction,Y_test))"
      ],
      "execution_count": 39,
      "outputs": [
        {
          "output_type": "stream",
          "name": "stdout",
          "text": [
            "Accuracy: 0.823321294317093\n"
          ]
        }
      ]
    },
    {
      "cell_type": "markdown",
      "metadata": {
        "id": "sP1KTMrCxDty"
      },
      "source": [
        "**Confusion Matrix as a model**"
      ]
    },
    {
      "cell_type": "code",
      "metadata": {
        "colab": {
          "base_uri": "https://localhost:8080/"
        },
        "id": "FTzrksIoxECC",
        "outputId": "42618536-5b83-4788-9463-c452500e40a5"
      },
      "source": [
        "confusion_mat = confusion_matrix(Y_test,prediction)\n",
        "print(\"Confusion matrix: \\n\",confusion_mat)\n",
        "print(classification_report(Y_test,prediction))"
      ],
      "execution_count": 32,
      "outputs": [
        {
          "output_type": "stream",
          "name": "stdout",
          "text": [
            "Confusion matrix: \n",
            " [[9515  739]\n",
            " [1658 1655]]\n",
            "              precision    recall  f1-score   support\n",
            "\n",
            "         0.0       0.85      0.93      0.89     10254\n",
            "         1.0       0.69      0.50      0.58      3313\n",
            "\n",
            "    accuracy                           0.82     13567\n",
            "   macro avg       0.77      0.71      0.73     13567\n",
            "weighted avg       0.81      0.82      0.81     13567\n",
            "\n"
          ]
        }
      ]
    },
    {
      "cell_type": "markdown",
      "metadata": {
        "id": "ivfU2pPSxEVy"
      },
      "source": [
        "**Support Vector as Model**"
      ]
    },
    {
      "cell_type": "code",
      "metadata": {
        "colab": {
          "base_uri": "https://localhost:8080/"
        },
        "id": "S62H5nLTxEta",
        "outputId": "425d0803-7a0b-4f5c-92ca-1af2a1dbfcb0"
      },
      "source": [
        "model1 = SVC()\n",
        "model1.fit(r_train,Y_train)\n",
        "Y_pred = model1.predict(r_test)\n",
        "print(\"Accuracy=\",accuracy_score(Y_test,Y_pred))"
      ],
      "execution_count": 34,
      "outputs": [
        {
          "output_type": "stream",
          "name": "stdout",
          "text": [
            "Accuracy= 0.8447703987617012\n"
          ]
        }
      ]
    },
    {
      "cell_type": "markdown",
      "metadata": {
        "id": "Sfn3yQHP07JW"
      },
      "source": [
        "**KNN as a Model**"
      ]
    },
    {
      "cell_type": "code",
      "metadata": {
        "colab": {
          "base_uri": "https://localhost:8080/"
        },
        "id": "HqyToBxd06V8",
        "outputId": "74141b3f-c5ab-46a2-884b-0d6c39f6bf60"
      },
      "source": [
        "model2 = KNeighborsClassifier(n_neighbors=5)\n",
        "model2.fit(r_train,Y_train)\n",
        "Y_pred2 = model2.predict(r_test)\n",
        "print(\"Accuracy Score:\",accuracy_score(Y_test,Y_pred2))"
      ],
      "execution_count": 35,
      "outputs": [
        {
          "output_type": "stream",
          "name": "stdout",
          "text": [
            "Accuracy Score: 0.799882066779686\n"
          ]
        }
      ]
    },
    {
      "cell_type": "markdown",
      "metadata": {
        "id": "qaJy45cr1T0i"
      },
      "source": [
        "**Decision Tree as a Model**"
      ]
    },
    {
      "cell_type": "code",
      "metadata": {
        "colab": {
          "base_uri": "https://localhost:8080/"
        },
        "id": "ZB95ArTa1US6",
        "outputId": "6faf64d6-a02f-4db9-9ccc-7afc2bd5c516"
      },
      "source": [
        "model3 = DecisionTreeClassifier(criterion='entropy',random_state=7)\n",
        "model3.fit(r_train,Y_train)\n",
        "Y_pred3 = model3.predict(r_test)\n",
        "print(\"Accuracy Score:\",accuracy_score(Y_test,Y_pred3))"
      ],
      "execution_count": 37,
      "outputs": [
        {
          "output_type": "stream",
          "name": "stdout",
          "text": [
            "Accuracy Score: 0.7945013636028598\n"
          ]
        }
      ]
    },
    {
      "cell_type": "markdown",
      "metadata": {
        "id": "JE0d6NiowvS_"
      },
      "source": [
        "Accuracy to predict if credit card is approved or rejected in\n",
        "logistic regression has accuracy is 82%.\n",
        "Support vector has accuracy of 85%.\n",
        "K nearest Neighbor has accuracy of 80%.\n",
        "Decision Tree has accuracy of 80%."
      ]
    }
  ]
}